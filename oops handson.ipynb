{
 "cells": [
  {
   "cell_type": "raw",
   "id": "7282afc7-b411-4099-aaa0-7b295a166b56",
   "metadata": {},
   "source": [
    "Q1. Write a Python program to demonstrate multiple inheritance.\n",
    "1. Employee class has 3 data members EmployeeID, Gender (String), Salary and\n",
    "PerformanceRating(Out of 5) of type int. It has a get() function to get these details from\n",
    "the user.\n",
    "2. JoiningDetail class has a data member DateOfJoining of type Date and a function\n",
    "getDoJ to get the Date of joining of employees.\n",
    "3. Information Class uses the marks from Employee class and the DateOfJoining date\n",
    "from the JoiningDetail class to calculate the top 3 Employees based on their Ratings\n",
    "and then Display, using readData, all the details on these employees in Ascending\n",
    "order of their Date Of Joining."
   ]
  },
  {
   "cell_type": "code",
   "execution_count": 1,
   "id": "2dba39e5-de00-4c55-89f6-64221e0fea2f",
   "metadata": {},
   "outputs": [],
   "source": [
    "class Employee: \n",
    "      def __init__(self):\n",
    "          self.EmployeeID = 0\n",
    "          self.Gender = \"\"\n",
    "          self.Salary = 0\n",
    "          self.PerformanceRating = 0\n",
    "      def get(self):   \n",
    "          self.EmployeeID = int(input(\"enter the employee_id of the individual\"))\n",
    "          self.Gender = input(\"enter the gender of person male/female\")\n",
    "          self.Salary = int(input(\"enter the salary of the employee in integers\"))\n",
    "          self.PerformanceRating = int(input(\"enter the rating out of 5\"))\n",
    "          \n",
    "# import the datetime function \n",
    "import datetime\n",
    "class JoiningDetail:\n",
    "      def get_DOJ(self):\n",
    "          self.date = input(\"enter the date in DD/MM/YYYY in number\")\n",
    "          self.date_as_dt = datetime.datetime.strptime(self.date, \"%d/%m/%Y\")\n",
    "          print(f\"DOJ : {self.date_as_dt}\")\n",
    "          return (self.date_as_dt)\n",
    "\n",
    "class Information(Employee,JoiningDetail):\n",
    "      def readData(self):\n",
    "          employees=[]\n",
    "          for i in range(3):\n",
    "              emp=Information()\n",
    "              emp.get()\n",
    "              emp.get_DOJ()\n",
    "              employees.append(emp)\n",
    "              top3=sorted(employees,key=lambda x:x.PerformanceRating, reverse=True)[:3]\n",
    "              top3=sorted(top3,key=lambda x:x.date_as_dt)\n",
    "              for emp in top3:\n",
    "                print(f\"EmployeeID:{emp.EmployeeID},Gender:{emp.Gender},\"\n",
    "                f\"Salary:{emp.Salary},PerformanceRating:{emp.PerformanceRating},\"\n",
    "                f\"Date_of_Joining:{emp.date_as_dt}\")"
   ]
  },
  {
   "cell_type": "code",
   "execution_count": 2,
   "id": "45596b91-b0d7-4f05-bba8-17fea03339d1",
   "metadata": {},
   "outputs": [
    {
     "name": "stdin",
     "output_type": "stream",
     "text": [
      "enter the employee_id of the individual 101\n",
      "enter the gender of person male/female female\n",
      "enter the salary of the employee in integers 50000\n",
      "enter the rating out of 5 4\n",
      "enter the date in DD/MM/YYYY in number 12/01/2020\n"
     ]
    },
    {
     "name": "stdout",
     "output_type": "stream",
     "text": [
      "DOJ : 2020-01-12 00:00:00\n",
      "EmployeeID:101,Gender:female,Salary:50000,PerformanceRating:4,Date_of_Joining:2020-01-12 00:00:00\n"
     ]
    },
    {
     "name": "stdin",
     "output_type": "stream",
     "text": [
      "enter the employee_id of the individual 102\n",
      "enter the gender of person male/female male\n",
      "enter the salary of the employee in integers 65000\n",
      "enter the rating out of 5 5\n",
      "enter the date in DD/MM/YYYY in number 01/01/2018\n"
     ]
    },
    {
     "name": "stdout",
     "output_type": "stream",
     "text": [
      "DOJ : 2018-01-01 00:00:00\n",
      "EmployeeID:102,Gender:male,Salary:65000,PerformanceRating:5,Date_of_Joining:2018-01-01 00:00:00\n",
      "EmployeeID:101,Gender:female,Salary:50000,PerformanceRating:4,Date_of_Joining:2020-01-12 00:00:00\n"
     ]
    },
    {
     "name": "stdin",
     "output_type": "stream",
     "text": [
      "enter the employee_id of the individual 103\n",
      "enter the gender of person male/female female\n",
      "enter the salary of the employee in integers 40000\n",
      "enter the rating out of 5 3\n",
      "enter the date in DD/MM/YYYY in number 15/08/2022\n"
     ]
    },
    {
     "name": "stdout",
     "output_type": "stream",
     "text": [
      "DOJ : 2022-08-15 00:00:00\n",
      "EmployeeID:102,Gender:male,Salary:65000,PerformanceRating:5,Date_of_Joining:2018-01-01 00:00:00\n",
      "EmployeeID:101,Gender:female,Salary:50000,PerformanceRating:4,Date_of_Joining:2020-01-12 00:00:00\n",
      "EmployeeID:103,Gender:female,Salary:40000,PerformanceRating:3,Date_of_Joining:2022-08-15 00:00:00\n"
     ]
    }
   ],
   "source": [
    "info=Information()\n",
    "info.readData()"
   ]
  },
  {
   "cell_type": "raw",
   "id": "f53db1c8-341d-4edd-ba42-606cfa7c8e5f",
   "metadata": {},
   "source": [
    "Q.2 Write a Python program to demonstrate Polymorphism.\n",
    "1. Class Vehicle with a parameterized function Fare, that takes input value as fare and\n",
    "returns it to calling Objects.\n",
    "2. Create five separate variables Bus, Car, Train, Truck and Ship that call the Fare\n",
    "function.\n",
    "3. Use a third variable TotalFare to store the sum of fare for each Vehicle Type.\n",
    "4. Print the TotalFare."
   ]
  },
  {
   "cell_type": "code",
   "execution_count": 3,
   "id": "e5f7ea38-1b17-4fd5-9104-04450be11c37",
   "metadata": {},
   "outputs": [
    {
     "name": "stdout",
     "output_type": "stream",
     "text": [
      "total_fare of all vehicle : 630\n"
     ]
    }
   ],
   "source": [
    "class Vehicle:\n",
    "      def fare(self,fare):\n",
    "          return fare\n",
    "class bus(Vehicle):\n",
    "      pass \n",
    "class car(Vehicle):\n",
    "      pass\n",
    "class train(Vehicle):\n",
    "      pass\n",
    "class truck(Vehicle):\n",
    "      pass\n",
    "class ship(Vehicle):\n",
    "      pass\n",
    "\n",
    "# now creating certain variables\n",
    "Bus=bus()\n",
    "Car=car()\n",
    "Train=train()\n",
    "Truck=truck()\n",
    "Ship=ship()\n",
    "\n",
    "# creating total_fare variable\n",
    "\n",
    "total_fare = Bus.fare(50)+Car.fare(150)+Train.fare(80)+Truck.fare(200)+Ship.fare(150)\n",
    "\n",
    "# printing the total fare: \n",
    "print(f\"total_fare of all vehicle : {total_fare}\")"
   ]
  },
  {
   "cell_type": "raw",
   "id": "bacef33c-8618-4d8d-91e0-26953e582774",
   "metadata": {},
   "source": [
    "Q3. Consider an ongoing test cricket series. Following are the names of the players and their\n",
    "scores in the test1 and 2.\n",
    "Test Match 1 :\n",
    "Dhoni : 56 , Balaji : 94\n",
    "Test Match 2 :\n",
    "Balaji : 80 , Dravid : 105\n",
    "Calculate the highest number of runs scored by an individual cricketer in both of the matches.\n",
    "Create a python function Max_Score (M) that reads a dictionary M that recognizes the player\n",
    "with the highest total score. This function will return ( Top player , Total Score ) . You can\n",
    "consider the Top player as String who is the highest scorer and Top score as Integer .\n",
    "Input : Max_Score({‘test1’:{‘Dhoni’:56, ‘Balaji : 85}, ‘test2’:{‘Dhoni’ 87, ‘Balaji’’:200}})\n",
    "Output : (‘Balaji ‘ , 200)"
   ]
  },
  {
   "cell_type": "code",
   "execution_count": 4,
   "id": "6efae68d-0ce2-4d6a-acb4-4dcf21acbf75",
   "metadata": {},
   "outputs": [],
   "source": [
    "def Max_Score(scores):\n",
    "    top_player = \"\"\n",
    "    top_score = 0\n",
    "    for match_scores in scores.values():\n",
    "        for player, score in match_scores.items():\n",
    "           if score>top_score: \n",
    "             top_player=player\n",
    "             top_score=score\n",
    "    return( top_player, top_score)          "
   ]
  },
  {
   "cell_type": "code",
   "execution_count": 5,
   "id": "b9a44e6d-2a6b-47aa-84ff-4cb69898ab80",
   "metadata": {},
   "outputs": [
    {
     "name": "stdout",
     "output_type": "stream",
     "text": [
      "('Balaji', 200)\n"
     ]
    }
   ],
   "source": [
    "M = {'test1':{'Dhoni':56, 'Balaji' : 85}, 'test2':{'Dhoni': 87, 'Balaji' :200}}\n",
    "result= Max_Score(M)\n",
    "print(result)"
   ]
  },
  {
   "cell_type": "raw",
   "id": "27104896-b3f1-4ecd-95f8-6318938d289c",
   "metadata": {},
   "source": [
    "Q4. Create a simple Card game in which there are 8 cards which are randomly chosen from a\n",
    "deck. The first card is shown face up. The game asks the player to predict whether the next card\n",
    "in the selection will have a higher or lower value than the currently showing card.\n",
    "For example, say the card that’s shown is a 3. The player chooses “higher,” and the next card is\n",
    "shown. If that card has a higher value, the player is correct. In this example, if the player had\n",
    "chosen “lower,” they would have been incorrect. If the player guesses correctly, they get 20\n",
    "points. If they choose incorrectly, they lose 15 points. If the next card to be turned over has the\n",
    "same value as the previous card, the player is incorrect."
   ]
  },
  {
   "cell_type": "code",
   "execution_count": 11,
   "id": "93fc228c-f23a-43fa-b122-8e5655453158",
   "metadata": {},
   "outputs": [
    {
     "name": "stdout",
     "output_type": "stream",
     "text": [
      "Current_card : 5\n"
     ]
    },
    {
     "name": "stdin",
     "output_type": "stream",
     "text": [
      "Choose the next card will be higher or lower? (h/l):  l\n"
     ]
    },
    {
     "name": "stdout",
     "output_type": "stream",
     "text": [
      "Next_card : 11\n",
      "False! Score : - 15 points deducted\n"
     ]
    },
    {
     "name": "stdin",
     "output_type": "stream",
     "text": [
      "Choose the next card will be higher or lower? (h/l):  h\n"
     ]
    },
    {
     "name": "stdout",
     "output_type": "stream",
     "text": [
      "Next_card : 8\n",
      "False! Score : - 15 points deducted\n"
     ]
    },
    {
     "name": "stdin",
     "output_type": "stream",
     "text": [
      "Choose the next card will be higher or lower? (h/l):  h\n"
     ]
    },
    {
     "name": "stdout",
     "output_type": "stream",
     "text": [
      "Next_card : 4\n",
      "False! Score : - 15 points deducted\n"
     ]
    },
    {
     "name": "stdin",
     "output_type": "stream",
     "text": [
      "Choose the next card will be higher or lower? (h/l):  h\n"
     ]
    },
    {
     "name": "stdout",
     "output_type": "stream",
     "text": [
      "Next_card : 2\n",
      "False! Score : - 15 points deducted\n"
     ]
    },
    {
     "name": "stdin",
     "output_type": "stream",
     "text": [
      "Choose the next card will be higher or lower? (h/l):  l\n"
     ]
    },
    {
     "name": "stdout",
     "output_type": "stream",
     "text": [
      "Next_card : 3\n",
      "False! Score : - 15 points deducted\n"
     ]
    },
    {
     "name": "stdin",
     "output_type": "stream",
     "text": [
      "Choose the next card will be higher or lower? (h/l):  h\n"
     ]
    },
    {
     "name": "stdout",
     "output_type": "stream",
     "text": [
      "Next_card : 1\n",
      "False! Score : - 15 points deducted\n"
     ]
    },
    {
     "name": "stdin",
     "output_type": "stream",
     "text": [
      "Choose the next card will be higher or lower? (h/l):  l\n"
     ]
    },
    {
     "name": "stdout",
     "output_type": "stream",
     "text": [
      "Next_card : 5\n",
      "False! Score : - 15 points deducted\n",
      "Game_Over Final_score : -105\n"
     ]
    }
   ],
   "source": [
    "import random \n",
    "\n",
    "class cards_game:\n",
    "    def __init__(self):\n",
    "        self.deck = list(range(1,14))*4 \n",
    "        random.shuffle(self.deck)\n",
    "        self.cards = self.deck[0:8]\n",
    "        self.score = 0\n",
    "        self.current_card = None\n",
    "        \n",
    "    def play_game(self):\n",
    "        self.current_card = self.cards.pop(0)\n",
    "        print(f\"Current_card : {self.current_card}\")\n",
    "        while self.cards:\n",
    "            self.play_round()\n",
    "        print(f\"Game_Over Final_score : {self.score}\")\n",
    "\n",
    "    def play_round(self):\n",
    "        Guess = input(\"Choose the next card will be higher or lower? (h/l): \").lower()\n",
    "        next_card = (self.cards).pop(0)\n",
    "        print(f\"Next_card : {next_card}\")\n",
    "        if Guess == \"h\" and next_card>self.current_card:\n",
    "            self.score += 20\n",
    "            print(f\"Correct! Score : +20 points added\")\n",
    "        elif Guess == \"l\" and next_card<self.current_card:\n",
    "            self.score += 20\n",
    "            print(f\"Correct! Score : +20 points added\")\n",
    "        else :\n",
    "            self.score -= 15\n",
    "            print(f\"False! Score : - 15 points deducted\")\n",
    "\n",
    "        self.current_card = next_card\n",
    "\n",
    "# let's start the game\n",
    "\n",
    "ob1 = cards_game()\n",
    "ob1.play_game()"
   ]
  },
  {
   "cell_type": "raw",
   "id": "0ccdda2b-f74c-44b7-b999-4b388ca5b4bd",
   "metadata": {},
   "source": [
    "Q5. Create an empty dictionary called Car_0 . Then fill the dictionary with Keys : color , speed\n",
    ", X_position and Y_position.\n",
    "car_0 = {'x_position': 10, 'y_position': 72, 'speed': 'medium'} .\n",
    "a) If the speed is slow the coordinates of the X_pos get incremented by 2.\n",
    "b) If the speed is Medium the coordinates of the X_pos gets incremented by 9\n",
    "c) Now if the speed is Fast the coordinates of the X_pos gets incremented by 22.\n",
    "Print the modified dictionary"
   ]
  },
  {
   "cell_type": "code",
   "execution_count": 12,
   "id": "67678287-24e2-4edb-8164-1e4505c95703",
   "metadata": {},
   "outputs": [],
   "source": [
    "class cars:\n",
    "    def __init__(self,color,speed,x_pos,y_pos):\n",
    "        self.car_data = {\n",
    "            'color' : color,\n",
    "            'speed' : speed,\n",
    "            'x_position' : x_pos,\n",
    "            'y_position' : y_pos\n",
    "           }\n",
    "        \n",
    "    def move(self):\n",
    "         if self.car_data['speed'] == 'slow':\n",
    "             self.car_data['x_position'] +=2\n",
    "         elif self.car_data['speed'] == 'medium':\n",
    "             self.car_data['x_position'] +=9\n",
    "         elif self.car_data['speed'] == 'fast':\n",
    "             self.car_data['x_position'] +=22\n",
    "         return self.car_data"
   ]
  },
  {
   "cell_type": "code",
   "execution_count": 13,
   "id": "87594917-0210-4a79-9001-c7c3e7103bb1",
   "metadata": {},
   "outputs": [
    {
     "data": {
      "text/plain": [
       "{'color': 'red', 'speed': 'medium', 'x_position': 19, 'y_position': 72}"
      ]
     },
     "execution_count": 13,
     "metadata": {},
     "output_type": "execute_result"
    }
   ],
   "source": [
    "#car_0 = {'x_position': 10, 'y_position': 72, 'speed': 'medium'} putting these values\n",
    "car_0=cars('red','medium',10,72)\n",
    "car_0.move()"
   ]
  },
  {
   "cell_type": "raw",
   "id": "172b990a-61fd-4966-b3d7-5a185baa4adb",
   "metadata": {},
   "source": [
    "Q6. Show a basic implementation of abstraction in python using the abstract classes.\n",
    "1. Create an abstract class in python.\n",
    "2. Implement abstraction with the other classes and base class as abstract class."
   ]
  },
  {
   "cell_type": "code",
   "execution_count": 208,
   "id": "9190561e-be97-47b0-99b5-156e1ddf34bc",
   "metadata": {},
   "outputs": [],
   "source": [
    "from abc import ABC, abstractmethod\n",
    "\n",
    "#creating an abstract class \n",
    "\n",
    "class Android(ABC):\n",
    "    @abstractmethod\n",
    "    def android_version(self):\n",
    "        pass\n",
    "    @abstractmethod\n",
    "    def ram_type_rom_type(self):\n",
    "        pass\n",
    "# subclass/child class implementing abstract method\n",
    "class Samsung(Android):\n",
    "    def camera_setup(self):\n",
    "        self.main_camera = int(input(\"enter the camera in mp\"))\n",
    "        self.ultra_wide = int(input(\"enter the camera in mp\"))   \n",
    "        print(f\"{self.main_camera} megapixel main camera and {self.ultra_wide} megapixel ultra wide camera\")\n",
    "    def android_version(self):\n",
    "        self.av = int(input(\"enter the android version\"))\n",
    "        print(f\"Android Version: {self.av}\")\n",
    "    def ram_type_rom_type(self):\n",
    "        self.ram = input(\"enter the ram in GB\")\n",
    "        self.rom = input(\"enter the rom in GB with storage type\")\n",
    "        print(f\"RAM : {self.ram} and ROM :{self.rom}\")"
   ]
  },
  {
   "cell_type": "code",
   "execution_count": 209,
   "id": "d274c617-38e5-497e-9506-96cdda9fc71c",
   "metadata": {},
   "outputs": [],
   "source": [
    "S_M35 = Samsung"
   ]
  },
  {
   "cell_type": "code",
   "execution_count": 210,
   "id": "d0d4a05c-2221-4789-a3d5-d9b8654f690f",
   "metadata": {},
   "outputs": [
    {
     "name": "stdin",
     "output_type": "stream",
     "text": [
      "enter the camera in mp 50\n",
      "enter the camera in mp 12\n"
     ]
    },
    {
     "name": "stdout",
     "output_type": "stream",
     "text": [
      "50 megapixel main camera and 12 megapixel ultra wide camera\n"
     ]
    }
   ],
   "source": [
    "S_M35.camera_setup(S_M35)"
   ]
  },
  {
   "cell_type": "code",
   "execution_count": 211,
   "id": "18d144ec-c52d-41a0-b1b9-2b115b8d9281",
   "metadata": {},
   "outputs": [
    {
     "name": "stdin",
     "output_type": "stream",
     "text": [
      "enter the android version 13\n"
     ]
    },
    {
     "name": "stdout",
     "output_type": "stream",
     "text": [
      "Android Version: 13\n"
     ]
    }
   ],
   "source": [
    "S_M35.android_version(S_M35)"
   ]
  },
  {
   "cell_type": "code",
   "execution_count": 212,
   "id": "b32a1c4c-fbb4-4f1a-ac66-b64f6f3f81a0",
   "metadata": {},
   "outputs": [
    {
     "name": "stdin",
     "output_type": "stream",
     "text": [
      "enter the ram in GB 12\n",
      "enter the rom in GB with storage type 256\n"
     ]
    },
    {
     "name": "stdout",
     "output_type": "stream",
     "text": [
      "RAM : 12 and ROM :256\n"
     ]
    }
   ],
   "source": [
    "S_M35.ram_type_rom_type(S_M35)"
   ]
  },
  {
   "cell_type": "raw",
   "id": "213a8b51-3449-4163-bfc3-ef4476dbb01b",
   "metadata": {},
   "source": [
    "Q7. Create a program in python to demonstrate Polymorphism.\n",
    "1. Make use of private and protected members using python name mangling techniques."
   ]
  },
  {
   "cell_type": "code",
   "execution_count": 14,
   "id": "b0c27c49-4563-4867-aa16-a07ac3838d17",
   "metadata": {},
   "outputs": [
    {
     "name": "stdout",
     "output_type": "stream",
     "text": [
      "name of small_finance : JANA\n",
      "name of nbfc : Aditya_Birla\n",
      "policy status of JANA : yes small_finance always have policy for saving account holder butcondition is account having 5000 rupees minimum balance\n",
      "policy status of Aditya_Birla : policy for those who are interested for homeloans\n"
     ]
    }
   ],
   "source": [
    "class Bank:\n",
    "      def __init__(self,name):\n",
    "          self.__name=name #private member \n",
    "      def policy(self):\n",
    "          return (\"no new policy for saving account holders\")\n",
    "          \n",
    "class small_finance(Bank):\n",
    "      def policy(self):\n",
    "          return (f\"yes small_finance always have policy for saving account holder but\"\n",
    "                    f\"condition is account having 5000 rupees minimum balance\")\n",
    "\n",
    "class nbfc(Bank):\n",
    "      def policy(self):\n",
    "          return(f\"policy for those who are interested for homeloans\")\n",
    "\n",
    "#create instance \n",
    "jana_bank=small_finance(\"JANA\")\n",
    "print(f\"name of small_finance : {jana_bank._Bank__name}\") #accessing the private member using mangling\n",
    "aditya_birla = nbfc(\"Aditya_Birla\")\n",
    "print(f\"name of nbfc : {aditya_birla._Bank__name}\") #accessing the private member using mangling\n",
    "\n",
    "#now polymorphism left \n",
    "\n",
    "Financial_corporate = [jana_bank,aditya_birla]\n",
    "for i in Financial_corporate:\n",
    "    print(f\"policy status of {i._Bank__name} : {i.policy()}\")"
   ]
  },
  {
   "cell_type": "raw",
   "id": "896dfe92-02ed-409d-8d7b-6a067b76bee7",
   "metadata": {},
   "source": [
    "Q8. Given a list of 50 natural numbers from 1-50. Create a function that will take every element\n",
    "from the list and return the square of each element. Use the python map and filter methods to\n",
    "implement the function on the given list."
   ]
  },
  {
   "cell_type": "code",
   "execution_count": 15,
   "id": "3ca55540-3e34-4a0d-b43b-a9b24db0dc3f",
   "metadata": {},
   "outputs": [
    {
     "name": "stdout",
     "output_type": "stream",
     "text": [
      "[1, 4, 9, 16, 25, 36, 49, 64, 81, 100, 121, 144, 169, 196, 225, 256, 289, 324, 361, 400, 441, 484, 529, 576, 625, 676, 729, 784, 841, 900, 961, 1024, 1089, 1156, 1225, 1296, 1369, 1444, 1521, 1600, 1681, 1764, 1849, 1936, 2025, 2116, 2209, 2304, 2401, 2500]\n"
     ]
    }
   ],
   "source": [
    "# list of natural number from 1 to 50\n",
    "\n",
    "natural_no = list(range(1,51))\n",
    "\n",
    "#creating a function that return square\n",
    "def square(a):\n",
    "    return (a**2)\n",
    "\n",
    "#using map and filter methods \n",
    "square_no_list = list(map(square,natural_no))\n",
    "\n",
    "print(square_no_list)                      "
   ]
  },
  {
   "cell_type": "raw",
   "id": "15b60370-cb59-401c-bb17-06b6c58e245d",
   "metadata": {},
   "source": [
    "Q9. Create a class, Triangle. Its init() method should take self, angle1, angle2, and angle3 as\n",
    "arguments."
   ]
  },
  {
   "cell_type": "code",
   "execution_count": 17,
   "id": "94da91b1-afa0-475d-b3af-b78d34b3be7d",
   "metadata": {},
   "outputs": [],
   "source": [
    "class Triangle:\n",
    "    def __init__ (self,angle1,angle2,angle3):\n",
    "        self.angle1 = int(input(\"enter the angle 1\"))\n",
    "        self.angle2 = int(input(\"enter the angle 2\"))\n",
    "        self.angle3 = int(input(\"enter the angle 3\"))\n",
    "        print(f\"angle1:{self.angle1}, angle2:{self.angle2},angle3:{self.angle3}\")   \n",
    "    #Q10. Create a class variable named number_of_sides and set it equal to 3.\n",
    "    \n",
    "    number_of_sides = 3 #class variable\n",
    "    \n",
    "    #Q11. Create a method named check_angles. The sum of a triangle's three angles should return\n",
    "        # True if the sum is equal to 180, and False otherwise. The method should print whether the\n",
    "        #  angles belong to a triangle or not.\n",
    "    def check_angles(self):\n",
    "        sum = (self.angle1)+(self.angle2)+(self.angle3)\n",
    "        if sum==180:\n",
    "            print(\"angles belongs to triangle\")\n",
    "            return True\n",
    "        else:\n",
    "            print(\"angles doesn't belongs to triangle\")\n",
    "            return False\n",
    "\n",
    "    # 11.1 Write methods to verify if the triangle is an acute triangle or obtuse triangle.      \n",
    "    def is_acute(self):\n",
    "        sum = (self.angle1)+(self.angle2)+(self.angle3)\n",
    "        if sum==180:\n",
    "            if ((self.angle1<90)&(self.angle2<90)&(self.angle3<90)):\n",
    "                    print(\"Acute_angled_triangle\")\n",
    "            else:\n",
    "                print(\"not an Acute_angled_triangle\")\n",
    "        else:\n",
    "            print(\"not a triangle check angle values\")\n",
    "        return (self.angle1,self.angle2,self.angle3)\n",
    "\n",
    "    def is_obtuse(self):\n",
    "         sum = (self.angle1)+(self.angle2)+(self.angle3)\n",
    "         if sum==180:\n",
    "             if (self.angle1>90)|(self.angle2>90)|(self.angle3>90):\n",
    "                 print(\"Obtuse_angled_triangle\")\n",
    "             else :\n",
    "                 print(\"not an obtuse_angled_triangle\")\n",
    "         else:\n",
    "             print(\"not a triangle check angle values\")\n",
    "         return (self.angle1,self.angle2,self.angle3)"
   ]
  },
  {
   "cell_type": "code",
   "execution_count": 18,
   "id": "372050be-b0f5-4ebd-9caf-e80c4923282e",
   "metadata": {},
   "outputs": [
    {
     "name": "stdin",
     "output_type": "stream",
     "text": [
      "enter the angle 1 60\n",
      "enter the angle 2 80\n",
      "enter the angle 3 40\n"
     ]
    },
    {
     "name": "stdout",
     "output_type": "stream",
     "text": [
      "angle1:60, angle2:80,angle3:40\n"
     ]
    }
   ],
   "source": [
    "#11.2 Create an instance of the triangle class and call all the defined methods.\n",
    "cc=Triangle(60,80,40)"
   ]
  },
  {
   "cell_type": "code",
   "execution_count": 19,
   "id": "3a89a890-57f5-48e9-82d0-ada2776890c4",
   "metadata": {},
   "outputs": [
    {
     "name": "stdout",
     "output_type": "stream",
     "text": [
      "angles belongs to triangle\n"
     ]
    },
    {
     "data": {
      "text/plain": [
       "True"
      ]
     },
     "execution_count": 19,
     "metadata": {},
     "output_type": "execute_result"
    }
   ],
   "source": [
    "cc.check_angles()"
   ]
  },
  {
   "cell_type": "code",
   "execution_count": 20,
   "id": "4c11f1d4-d385-48f3-be71-354f53c2cd6e",
   "metadata": {},
   "outputs": [
    {
     "name": "stdout",
     "output_type": "stream",
     "text": [
      "Acute_angled_triangle\n"
     ]
    },
    {
     "data": {
      "text/plain": [
       "(60, 80, 40)"
      ]
     },
     "execution_count": 20,
     "metadata": {},
     "output_type": "execute_result"
    }
   ],
   "source": [
    "cc.is_acute()"
   ]
  },
  {
   "cell_type": "code",
   "execution_count": 21,
   "id": "8c8c041e-5177-42c3-a32f-389bbc3abf2f",
   "metadata": {},
   "outputs": [
    {
     "name": "stdout",
     "output_type": "stream",
     "text": [
      "not an obtuse_angled_triangle\n"
     ]
    },
    {
     "data": {
      "text/plain": [
       "(60, 80, 40)"
      ]
     },
     "execution_count": 21,
     "metadata": {},
     "output_type": "execute_result"
    }
   ],
   "source": [
    "cc.is_obtuse()"
   ]
  },
  {
   "cell_type": "raw",
   "id": "e34ae69d-881d-4f0c-a0da-6e2d5a28095d",
   "metadata": {},
   "source": [
    "11.3 Create three child classes of triangle class - isosceles_triangle, right_triangle and\n",
    "equilateral_triangle.\n",
    "11.4 Define methods which check for their properties."
   ]
  },
  {
   "cell_type": "code",
   "execution_count": 22,
   "id": "306a274b-043e-4abe-90c0-3cc5dd98232f",
   "metadata": {},
   "outputs": [],
   "source": [
    "class isosceles(Triangle):\n",
    "      def check(self):\n",
    "          sum = self.angle1+self.angle2+self.angle3\n",
    "          if sum==180:\n",
    "              if ((self.angle1==self.angle2)|(self.angle2==self.angle3)|(self.angle3==self.angle1)):\n",
    "                  \n",
    "                  print(\"Yes! this is an isosceles_triangle\")\n",
    "              else:\n",
    "                  print(\"not an isosceles triangle\")\n",
    "          else:\n",
    "              print(\"not a triangle check angle values\")\n",
    "\n",
    "class right_angled(Triangle):\n",
    "      def check(self):\n",
    "          sum = self.angle1+self.angle2+self.angle3\n",
    "          if sum==180:\n",
    "              if ((self.angle1==90)|(self.angle2==90)|(self.angle3==90)):\n",
    "                  print(\"Yes! this is an right_angled_triangle\")\n",
    "              else:\n",
    "                  print(\"not an right_angled triangle\")\n",
    "          else:\n",
    "              print(\"not a triangle check angle values\")        \n",
    "\n",
    "class equilateral(Triangle):\n",
    "      def check(self):\n",
    "          sum = self.angle1+self.angle2+self.angle3\n",
    "          if sum==180:\n",
    "              if ((self.angle1==self.angle2)&(self.angle2==self.angle3)&(self.angle3==self.angle1)):\n",
    "                  print(\"Yes! the triangle is an equilateral triangle\")\n",
    "              else:\n",
    "                  print(\"not an equilateral triangle\")\n",
    "          else:\n",
    "              print(\"not a triangle check angle values\") "
   ]
  },
  {
   "cell_type": "code",
   "execution_count": 23,
   "id": "6cd96f1b-cd04-4a8a-b1c8-1f6ffad7e05c",
   "metadata": {},
   "outputs": [
    {
     "name": "stdin",
     "output_type": "stream",
     "text": [
      "enter the angle 1 40\n",
      "enter the angle 2 40\n",
      "enter the angle 3 100\n"
     ]
    },
    {
     "name": "stdout",
     "output_type": "stream",
     "text": [
      "angle1:40, angle2:40,angle3:100\n"
     ]
    }
   ],
   "source": [
    "ac = isosceles(40,40,100)"
   ]
  },
  {
   "cell_type": "code",
   "execution_count": 24,
   "id": "139fd58b-8c6f-425a-8a04-5409826b52b7",
   "metadata": {},
   "outputs": [
    {
     "name": "stdout",
     "output_type": "stream",
     "text": [
      "Yes! this is an isosceles_triangle\n"
     ]
    }
   ],
   "source": [
    "ac.check()"
   ]
  },
  {
   "cell_type": "code",
   "execution_count": 25,
   "id": "02b5ebb9-a051-4100-b0b9-4e290729c3f4",
   "metadata": {},
   "outputs": [
    {
     "name": "stdin",
     "output_type": "stream",
     "text": [
      "enter the angle 1 60\n",
      "enter the angle 2 60\n",
      "enter the angle 3 60\n"
     ]
    },
    {
     "name": "stdout",
     "output_type": "stream",
     "text": [
      "angle1:60, angle2:60,angle3:60\n"
     ]
    }
   ],
   "source": [
    "av = equilateral(60,60,60)"
   ]
  },
  {
   "cell_type": "code",
   "execution_count": 26,
   "id": "e20383d6-5ced-4f3d-9083-43c5c968f7a4",
   "metadata": {},
   "outputs": [
    {
     "name": "stdout",
     "output_type": "stream",
     "text": [
      "Yes! the triangle is an equilateral triangle\n"
     ]
    }
   ],
   "source": [
    "av.check()"
   ]
  },
  {
   "cell_type": "code",
   "execution_count": 27,
   "id": "3adce033-bc30-4173-9a41-b6ba666b006f",
   "metadata": {},
   "outputs": [
    {
     "name": "stdin",
     "output_type": "stream",
     "text": [
      "enter the angle 1 30\n",
      "enter the angle 2 90\n",
      "enter the angle 3 60\n"
     ]
    },
    {
     "name": "stdout",
     "output_type": "stream",
     "text": [
      "angle1:30, angle2:90,angle3:60\n"
     ]
    }
   ],
   "source": [
    "ad = right_angled(30,90,60)"
   ]
  },
  {
   "cell_type": "code",
   "execution_count": 28,
   "id": "3bbaaf4c-0790-450e-9375-7fc1f8febf14",
   "metadata": {},
   "outputs": [
    {
     "name": "stdout",
     "output_type": "stream",
     "text": [
      "Yes! this is an right_angled_triangle\n"
     ]
    }
   ],
   "source": [
    "ad.check()"
   ]
  },
  {
   "cell_type": "raw",
   "id": "feb8a604-0787-4cf4-9f8b-390f7d0f97cd",
   "metadata": {},
   "source": [
    "Q12. Create a class isosceles_right_triangle which inherits from isosceles_triangle and\n",
    "right_triangle.\n",
    "12.1 Define methods which check for their properties."
   ]
  },
  {
   "cell_type": "code",
   "execution_count": 29,
   "id": "68219779-12f4-4225-b9d7-9c932b4d7c13",
   "metadata": {},
   "outputs": [],
   "source": [
    "class isosceles_right_triangle(isosceles,right_angled):\n",
    "           def check(self):\n",
    "               sum = self.angle1+self.angle2+self.angle3\n",
    "               if sum==180:\n",
    "                   if ((self.angle1==90)|(self.angle2==90)|(self.angle3==90)): \n",
    "                       if ((self.angle1==self.angle2)|(self.angle2==self.angle3)|(self.angle3==self.angle1)):\n",
    "                              print(\"Yes! this is an isosceles_right_triangle\")\n",
    "                       else:\n",
    "                           print(\"one angle is right angle but other angles are not equal to each other\")\n",
    "                   else:\n",
    "                       print(\"as right angled property is not full filled cannott consider the triangle is this category\")\n",
    "               else:\n",
    "                   print(\"not a triangle please check the inputs of angles\")\n",
    "               return (self.angle1,self.angle2,self.angle3)    "
   ]
  },
  {
   "cell_type": "code",
   "execution_count": 30,
   "id": "a00b8fa7-599b-4ed6-812f-c9ffd9451597",
   "metadata": {},
   "outputs": [
    {
     "name": "stdin",
     "output_type": "stream",
     "text": [
      "enter the angle 1 40\n",
      "enter the angle 2 90\n",
      "enter the angle 3 50\n"
     ]
    },
    {
     "name": "stdout",
     "output_type": "stream",
     "text": [
      "angle1:40, angle2:90,angle3:50\n"
     ]
    }
   ],
   "source": [
    "vv=isosceles_right_triangle(40,90,50)"
   ]
  },
  {
   "cell_type": "code",
   "execution_count": 31,
   "id": "63014b36-62f7-4a4d-9b42-8ca96e7a6a52",
   "metadata": {},
   "outputs": [
    {
     "name": "stdout",
     "output_type": "stream",
     "text": [
      "one angle is right angle but other angles are not equal to each other\n"
     ]
    },
    {
     "data": {
      "text/plain": [
       "(40, 90, 50)"
      ]
     },
     "execution_count": 31,
     "metadata": {},
     "output_type": "execute_result"
    }
   ],
   "source": [
    "vv.check()"
   ]
  },
  {
   "cell_type": "code",
   "execution_count": null,
   "id": "8ef40a70-fe6d-45bf-ac30-eae125a2cf11",
   "metadata": {},
   "outputs": [],
   "source": []
  }
 ],
 "metadata": {
  "kernelspec": {
   "display_name": "Python 3 (ipykernel)",
   "language": "python",
   "name": "python3"
  },
  "language_info": {
   "codemirror_mode": {
    "name": "ipython",
    "version": 3
   },
   "file_extension": ".py",
   "mimetype": "text/x-python",
   "name": "python",
   "nbconvert_exporter": "python",
   "pygments_lexer": "ipython3",
   "version": "3.12.4"
  }
 },
 "nbformat": 4,
 "nbformat_minor": 5
}
