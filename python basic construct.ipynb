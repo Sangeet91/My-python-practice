{
 "cells": [
  {
   "cell_type": "raw",
   "id": "7da06eb6-85e7-40dd-9004-8c9ffccad991",
   "metadata": {},
   "source": [
    "Q1. Using Python script as a calculator\n",
    "Create the variables n, r, p and assign them values 10, 5, and 100 respectively. Then\n",
    "evaluate the following expression in the Python console.\n",
    "𝐴 = 𝑝 (1 + 𝑟/ 100)n\n",
    "a. 100\n",
    "b. 162.89\n",
    "c. 189\n",
    "d. None of the above"
   ]
  },
  {
   "cell_type": "code",
   "execution_count": 31,
   "id": "04d27191-bd71-4a41-b05a-46abf2da514a",
   "metadata": {},
   "outputs": [],
   "source": [
    "n=10\n",
    "r=5\n",
    "p=100\n",
    "\n",
    "def calculator (n,r,p):\n",
    "              A=p*(1+r/100)**n\n",
    "              print('A =',A)\n"
   ]
  },
  {
   "cell_type": "code",
   "execution_count": 32,
   "id": "0b4f885f-52a0-4cc4-a984-b07762b35f1f",
   "metadata": {},
   "outputs": [
    {
     "name": "stdout",
     "output_type": "stream",
     "text": [
      "A = 162.8894626777442\n"
     ]
    }
   ],
   "source": [
    "calculator(n,r,p)"
   ]
  },
  {
   "cell_type": "raw",
   "id": "59f834a7-2d49-402d-af6d-3971c21cad2e",
   "metadata": {},
   "source": [
    "answer of Question 1 - option b"
   ]
  },
  {
   "cell_type": "raw",
   "id": "8cb3b3b0-47e9-42d5-9da1-bc7d622c1146",
   "metadata": {},
   "source": [
    "Q2. In a given string format operation, how will you print the given string.\n",
    "A = 10\n",
    "B = 20\n",
    "Str = \"There are {} students in the class, with {} who play at least one sport.\"\n",
    "a. print(string.format(a,b))\n",
    "b. print(string+a+b)\n",
    "c. print(string.format(b,a))\n",
    "d. None of the above\n"
   ]
  },
  {
   "cell_type": "code",
   "execution_count": 24,
   "id": "378cc205-468f-44bd-bb54-327cdac319bc",
   "metadata": {},
   "outputs": [
    {
     "name": "stdout",
     "output_type": "stream",
     "text": [
      "There are 20 students in the class, with 10 who play at least one sport.\n"
     ]
    }
   ],
   "source": [
    "A = 10\n",
    "B = 20\n",
    "Str = \"There are {} students in the class, with {} who play at least one sport.\"\n",
    "\n",
    "print(Str.format(B,A))"
   ]
  },
  {
   "cell_type": "raw",
   "id": "382587c3-711f-4eda-a6e8-b68c37258a31",
   "metadata": {},
   "source": [
    "answer of Question 2 - option c"
   ]
  },
  {
   "cell_type": "raw",
   "id": "ea3d8a5a-0a9a-4863-9a52-b87d7735deb2",
   "metadata": {},
   "source": [
    "Q3. In a given sample string, How do you print a double quoted string in between a\n",
    "regular\n",
    "string using the escape character?\n",
    "Sample output = It goes without saying, “Time is Money”, and none can deny it.\n",
    "a. print(“It goes without saying, \\“Time is Money\\”, and none can deny it.”)\n",
    "b. print(“It goes without saying, \\Time is Money\\, and none can deny it.”)\n",
    "c. print(“It goes without saying” + “Time is Money” + “and none can deny it.”)\n",
    "d. None of the above.\n"
   ]
  },
  {
   "cell_type": "code",
   "execution_count": 26,
   "id": "f8ab56ac-1bc4-4c96-9f0d-6bc08c513da2",
   "metadata": {},
   "outputs": [
    {
     "name": "stdout",
     "output_type": "stream",
     "text": [
      "It goes without saying, \"Time is Money\", and none can deny it.\n"
     ]
    }
   ],
   "source": [
    "print(\"It goes without saying, \\\"Time is Money\\\", and none can deny it.\")"
   ]
  },
  {
   "cell_type": "markdown",
   "id": "47266a52-ebda-4231-be70-5e1ccb1968da",
   "metadata": {},
   "source": [
    "answer of Question 3 - option a"
   ]
  },
  {
   "cell_type": "code",
   "execution_count": null,
   "id": "b178e741-9ca9-4d0d-ba4c-0db7bb89f014",
   "metadata": {},
   "outputs": [],
   "source": [
    "Q4. What will be the output of the following code?\n",
    "x = lambda a,b: a//b\n",
    "x(10,3)\n",
    "a. 3.3333333333\n",
    "b. 3\n",
    "c. 30\n",
    "d. 1000\n"
   ]
  },
  {
   "cell_type": "code",
   "execution_count": 27,
   "id": "8a8b8662-e75d-431c-96d4-88c73b0fae09",
   "metadata": {},
   "outputs": [
    {
     "data": {
      "text/plain": [
       "3"
      ]
     },
     "execution_count": 27,
     "metadata": {},
     "output_type": "execute_result"
    }
   ],
   "source": [
    "x = lambda a,b: a//b\n",
    "x(10,3)"
   ]
  },
  {
   "cell_type": "markdown",
   "id": "3a325055-6ce3-455d-b738-c4ed0b8cc160",
   "metadata": {},
   "source": [
    "answer of question 4 - option b"
   ]
  },
  {
   "cell_type": "raw",
   "id": "3f05b29e-4173-4360-a104-38a7c4ac6e18",
   "metadata": {},
   "source": [
    "Q5. What will be the output of the following code?\n",
    "A = 10\n",
    "B = 12\n",
    "print(\"Smaller\") if A == B else print(\"Greater\") if A < B else print(\"True\")\n",
    "a. True\n",
    "b. Smaller\n",
    "c. Greater\n",
    "d. None of the above\n"
   ]
  },
  {
   "cell_type": "code",
   "execution_count": 1,
   "id": "bfb03cab-5852-45c4-9c62-be2e217f6c87",
   "metadata": {},
   "outputs": [
    {
     "name": "stdout",
     "output_type": "stream",
     "text": [
      "Greater\n"
     ]
    }
   ],
   "source": [
    "A = 10\n",
    "B = 12\n",
    "print(\"Smaller\") if A == B else print(\"Greater\") if A < B else print(\"True\")"
   ]
  },
  {
   "cell_type": "code",
   "execution_count": null,
   "id": "0241e754-d48f-46fa-9ca8-5775a2d802c7",
   "metadata": {},
   "outputs": [],
   "source": [
    "answer of question 5 - option c"
   ]
  },
  {
   "cell_type": "raw",
   "id": "8bde4b90-9067-4458-86af-08822235e702",
   "metadata": {},
   "source": [
    "Q6. What will be the output of the following code?\n",
    "\n",
    "import os\n",
    "import numpy as np\n",
    "my_list1 = [2,7,3,5,4,6]\n",
    "print(my_list1)\n",
    "arr_1 = numpy.array(my_list1, dtype = int)\n",
    "print(arr_1)\n",
    "\n",
    "a. [2 7 3 5 4 6]\n",
    "b. TypeError\n",
    "c. NameError: name 'numpy' is not defined\n",
    "d. None of the above\n"
   ]
  },
  {
   "cell_type": "markdown",
   "id": "76057fb2-e86a-42a8-b653-27d642d35fd4",
   "metadata": {},
   "source": [
    "answer of question 6 - option c"
   ]
  },
  {
   "cell_type": "raw",
   "id": "80506e19-ac23-48c0-916e-0a37f81cc622",
   "metadata": {},
   "source": [
    "Q7. Create a string called ‘string’ with the value as “Machine Learning”. Which code(s)\n",
    "is/are appropriate to slice the substring “Learn”?\n",
    "a. string[slice(13,8,1)]\n",
    "b. string[slice(1,8,1)]\n",
    "c. string[8:14]\n",
    "d. string[slice(8,13,1)]"
   ]
  },
  {
   "cell_type": "code",
   "execution_count": 8,
   "id": "4613491a-ef4a-4a69-92c2-db68577a6571",
   "metadata": {},
   "outputs": [
    {
     "data": {
      "text/plain": [
       "'Learn'"
      ]
     },
     "execution_count": 8,
     "metadata": {},
     "output_type": "execute_result"
    }
   ],
   "source": [
    "string = \"Machine Learning\"\n",
    "string[slice(8,13,1)]\n",
    "#string[8:13]"
   ]
  },
  {
   "cell_type": "markdown",
   "id": "0f34d6ed-acc4-4b65-b100-9e693c1063cb",
   "metadata": {},
   "source": [
    "answer of question 7 - option d"
   ]
  },
  {
   "cell_type": "raw",
   "id": "197c2fc2-cb0b-4bb1-b834-83aaa77b2d48",
   "metadata": {},
   "source": [
    "Q8. Create a sequence of numbers from 10 to 25 and increment by 4. What is the index\n",
    "of the\n",
    "value 18?\n",
    "a. 3\n",
    "b. 2\n",
    "c. 0\n",
    "d. 1"
   ]
  },
  {
   "cell_type": "code",
   "execution_count": 20,
   "id": "e03701f0-51c7-4807-8222-06db91c01b34",
   "metadata": {},
   "outputs": [
    {
     "data": {
      "text/plain": [
       "(array([2], dtype=int64),)"
      ]
     },
     "execution_count": 20,
     "metadata": {},
     "output_type": "execute_result"
    }
   ],
   "source": [
    "aa = np.arange(10,25,4)\n",
    "np.where(aa==18)"
   ]
  },
  {
   "cell_type": "code",
   "execution_count": null,
   "id": "2bfebf39-e845-4571-b4c1-9bfae9f64bcb",
   "metadata": {},
   "outputs": [],
   "source": [
    "answer of question 8 - option b"
   ]
  },
  {
   "cell_type": "raw",
   "id": "ca93f388-2f5f-4fdc-9349-b1033c938765",
   "metadata": {},
   "source": [
    "Q9. Which of the following is true with respect to the below codes?\n",
    "\n",
    "num1=5**4\n",
    "num2=pow(5,4)\n",
    "print(num1,num2)\n",
    "\n",
    "a. num1 = num2\n",
    "b. num1 ≠ num2\n",
    "c. num1 < num2\n",
    "d. num1 > num2"
   ]
  },
  {
   "cell_type": "code",
   "execution_count": 21,
   "id": "2e3fa159-27f3-4fc4-969d-ed43bba61d2a",
   "metadata": {},
   "outputs": [
    {
     "name": "stdout",
     "output_type": "stream",
     "text": [
      "625 625\n"
     ]
    }
   ],
   "source": [
    "num1=5**4\n",
    "num2=pow(5,4)\n",
    "print(num1,num2)"
   ]
  },
  {
   "cell_type": "code",
   "execution_count": null,
   "id": "851b08ba-fae1-4176-a325-072487c5a3ab",
   "metadata": {},
   "outputs": [],
   "source": [
    "answer of question 9 - option a"
   ]
  },
  {
   "cell_type": "raw",
   "id": "0b7c2603-4616-4dd7-9bbb-67abfb0f4a6f",
   "metadata": {},
   "source": [
    "Q10.A Python NameError exception is raised when: -\n",
    "a. Trying to access a variable which has not been defined\n",
    "b. Trying to access a key in a dictionary that does not exist\n",
    "c. Accessing a column with misspelled column name\n",
    "d. Accessing the function from a module that has not been imported\n"
   ]
  },
  {
   "cell_type": "markdown",
   "id": "cc96072a-b665-4fda-95bf-861fcb9946c0",
   "metadata": {},
   "source": [
    "answer of question 10 - option a"
   ]
  },
  {
   "cell_type": "raw",
   "id": "cad549ce-36dc-4a04-921a-45c13383a510",
   "metadata": {},
   "source": [
    "Q11.What type of exception will be raised for the code given below?\n",
    "\n",
    "x=\"string\"\n",
    "int(x)\n",
    "a. NameError\n",
    "b. KeyError\n",
    "c. ValueError\n",
    "d. AttributeError"
   ]
  },
  {
   "cell_type": "code",
   "execution_count": 26,
   "id": "c2c3ca9a-e9be-44de-b8f7-403b33139c9c",
   "metadata": {},
   "outputs": [
    {
     "ename": "ValueError",
     "evalue": "invalid literal for int() with base 10: 'string'",
     "output_type": "error",
     "traceback": [
      "\u001b[1;31m---------------------------------------------------------------------------\u001b[0m",
      "\u001b[1;31mValueError\u001b[0m                                Traceback (most recent call last)",
      "Cell \u001b[1;32mIn[26], line 2\u001b[0m\n\u001b[0;32m      1\u001b[0m x\u001b[38;5;241m=\u001b[39m\u001b[38;5;124m\"\u001b[39m\u001b[38;5;124mstring\u001b[39m\u001b[38;5;124m\"\u001b[39m\n\u001b[1;32m----> 2\u001b[0m \u001b[38;5;28mint\u001b[39m(x)\n",
      "\u001b[1;31mValueError\u001b[0m: invalid literal for int() with base 10: 'string'"
     ]
    }
   ],
   "source": [
    "x=\"string\"\n",
    "int(x)"
   ]
  },
  {
   "cell_type": "code",
   "execution_count": null,
   "id": "78c71214-ded7-4a97-bb70-2b6b7dce9999",
   "metadata": {},
   "outputs": [],
   "source": [
    "answer of question 11 - option c"
   ]
  },
  {
   "cell_type": "raw",
   "id": "96bcab97-7fcd-436a-b9aa-48d6701034a8",
   "metadata": {},
   "source": [
    "Q12.A FileNotFoundError exception is raised by operating system errors when: -\n",
    "a. Trying to create a file or directory which already exists\n",
    "b. A file or directory is requested but does not exist in the working directory\n",
    "c. Trying to run an operation without the adequate access rights\n",
    "d. A directory operation, os.listdir() is requested on something which is not a\n",
    "directory"
   ]
  },
  {
   "cell_type": "markdown",
   "id": "a70a6c0c-78db-4619-973b-fa1fe8665523",
   "metadata": {},
   "source": [
    "answer of question 12 - option b"
   ]
  },
  {
   "cell_type": "code",
   "execution_count": 27,
   "id": "27445049-d903-499e-8af1-6ff5d292a888",
   "metadata": {},
   "outputs": [
    {
     "ename": "FileNotFoundError",
     "evalue": "[Errno 2] No such file or directory: 'file_name_01'",
     "output_type": "error",
     "traceback": [
      "\u001b[1;31m---------------------------------------------------------------------------\u001b[0m",
      "\u001b[1;31mFileNotFoundError\u001b[0m                         Traceback (most recent call last)",
      "Cell \u001b[1;32mIn[27], line 2\u001b[0m\n\u001b[0;32m      1\u001b[0m \u001b[38;5;28;01mimport\u001b[39;00m \u001b[38;5;21;01mpandas\u001b[39;00m \u001b[38;5;28;01mas\u001b[39;00m \u001b[38;5;21;01mpd\u001b[39;00m\n\u001b[1;32m----> 2\u001b[0m df \u001b[38;5;241m=\u001b[39m pd\u001b[38;5;241m.\u001b[39mread_csv(\u001b[38;5;124m\"\u001b[39m\u001b[38;5;124mfile_name_01\u001b[39m\u001b[38;5;124m\"\u001b[39m)\n\u001b[0;32m      3\u001b[0m df\n",
      "File \u001b[1;32m~\\anaconda3\\Lib\\site-packages\\pandas\\io\\parsers\\readers.py:1026\u001b[0m, in \u001b[0;36mread_csv\u001b[1;34m(filepath_or_buffer, sep, delimiter, header, names, index_col, usecols, dtype, engine, converters, true_values, false_values, skipinitialspace, skiprows, skipfooter, nrows, na_values, keep_default_na, na_filter, verbose, skip_blank_lines, parse_dates, infer_datetime_format, keep_date_col, date_parser, date_format, dayfirst, cache_dates, iterator, chunksize, compression, thousands, decimal, lineterminator, quotechar, quoting, doublequote, escapechar, comment, encoding, encoding_errors, dialect, on_bad_lines, delim_whitespace, low_memory, memory_map, float_precision, storage_options, dtype_backend)\u001b[0m\n\u001b[0;32m   1013\u001b[0m kwds_defaults \u001b[38;5;241m=\u001b[39m _refine_defaults_read(\n\u001b[0;32m   1014\u001b[0m     dialect,\n\u001b[0;32m   1015\u001b[0m     delimiter,\n\u001b[1;32m   (...)\u001b[0m\n\u001b[0;32m   1022\u001b[0m     dtype_backend\u001b[38;5;241m=\u001b[39mdtype_backend,\n\u001b[0;32m   1023\u001b[0m )\n\u001b[0;32m   1024\u001b[0m kwds\u001b[38;5;241m.\u001b[39mupdate(kwds_defaults)\n\u001b[1;32m-> 1026\u001b[0m \u001b[38;5;28;01mreturn\u001b[39;00m _read(filepath_or_buffer, kwds)\n",
      "File \u001b[1;32m~\\anaconda3\\Lib\\site-packages\\pandas\\io\\parsers\\readers.py:620\u001b[0m, in \u001b[0;36m_read\u001b[1;34m(filepath_or_buffer, kwds)\u001b[0m\n\u001b[0;32m    617\u001b[0m _validate_names(kwds\u001b[38;5;241m.\u001b[39mget(\u001b[38;5;124m\"\u001b[39m\u001b[38;5;124mnames\u001b[39m\u001b[38;5;124m\"\u001b[39m, \u001b[38;5;28;01mNone\u001b[39;00m))\n\u001b[0;32m    619\u001b[0m \u001b[38;5;66;03m# Create the parser.\u001b[39;00m\n\u001b[1;32m--> 620\u001b[0m parser \u001b[38;5;241m=\u001b[39m TextFileReader(filepath_or_buffer, \u001b[38;5;241m*\u001b[39m\u001b[38;5;241m*\u001b[39mkwds)\n\u001b[0;32m    622\u001b[0m \u001b[38;5;28;01mif\u001b[39;00m chunksize \u001b[38;5;129;01mor\u001b[39;00m iterator:\n\u001b[0;32m    623\u001b[0m     \u001b[38;5;28;01mreturn\u001b[39;00m parser\n",
      "File \u001b[1;32m~\\anaconda3\\Lib\\site-packages\\pandas\\io\\parsers\\readers.py:1620\u001b[0m, in \u001b[0;36mTextFileReader.__init__\u001b[1;34m(self, f, engine, **kwds)\u001b[0m\n\u001b[0;32m   1617\u001b[0m     \u001b[38;5;28mself\u001b[39m\u001b[38;5;241m.\u001b[39moptions[\u001b[38;5;124m\"\u001b[39m\u001b[38;5;124mhas_index_names\u001b[39m\u001b[38;5;124m\"\u001b[39m] \u001b[38;5;241m=\u001b[39m kwds[\u001b[38;5;124m\"\u001b[39m\u001b[38;5;124mhas_index_names\u001b[39m\u001b[38;5;124m\"\u001b[39m]\n\u001b[0;32m   1619\u001b[0m \u001b[38;5;28mself\u001b[39m\u001b[38;5;241m.\u001b[39mhandles: IOHandles \u001b[38;5;241m|\u001b[39m \u001b[38;5;28;01mNone\u001b[39;00m \u001b[38;5;241m=\u001b[39m \u001b[38;5;28;01mNone\u001b[39;00m\n\u001b[1;32m-> 1620\u001b[0m \u001b[38;5;28mself\u001b[39m\u001b[38;5;241m.\u001b[39m_engine \u001b[38;5;241m=\u001b[39m \u001b[38;5;28mself\u001b[39m\u001b[38;5;241m.\u001b[39m_make_engine(f, \u001b[38;5;28mself\u001b[39m\u001b[38;5;241m.\u001b[39mengine)\n",
      "File \u001b[1;32m~\\anaconda3\\Lib\\site-packages\\pandas\\io\\parsers\\readers.py:1880\u001b[0m, in \u001b[0;36mTextFileReader._make_engine\u001b[1;34m(self, f, engine)\u001b[0m\n\u001b[0;32m   1878\u001b[0m     \u001b[38;5;28;01mif\u001b[39;00m \u001b[38;5;124m\"\u001b[39m\u001b[38;5;124mb\u001b[39m\u001b[38;5;124m\"\u001b[39m \u001b[38;5;129;01mnot\u001b[39;00m \u001b[38;5;129;01min\u001b[39;00m mode:\n\u001b[0;32m   1879\u001b[0m         mode \u001b[38;5;241m+\u001b[39m\u001b[38;5;241m=\u001b[39m \u001b[38;5;124m\"\u001b[39m\u001b[38;5;124mb\u001b[39m\u001b[38;5;124m\"\u001b[39m\n\u001b[1;32m-> 1880\u001b[0m \u001b[38;5;28mself\u001b[39m\u001b[38;5;241m.\u001b[39mhandles \u001b[38;5;241m=\u001b[39m get_handle(\n\u001b[0;32m   1881\u001b[0m     f,\n\u001b[0;32m   1882\u001b[0m     mode,\n\u001b[0;32m   1883\u001b[0m     encoding\u001b[38;5;241m=\u001b[39m\u001b[38;5;28mself\u001b[39m\u001b[38;5;241m.\u001b[39moptions\u001b[38;5;241m.\u001b[39mget(\u001b[38;5;124m\"\u001b[39m\u001b[38;5;124mencoding\u001b[39m\u001b[38;5;124m\"\u001b[39m, \u001b[38;5;28;01mNone\u001b[39;00m),\n\u001b[0;32m   1884\u001b[0m     compression\u001b[38;5;241m=\u001b[39m\u001b[38;5;28mself\u001b[39m\u001b[38;5;241m.\u001b[39moptions\u001b[38;5;241m.\u001b[39mget(\u001b[38;5;124m\"\u001b[39m\u001b[38;5;124mcompression\u001b[39m\u001b[38;5;124m\"\u001b[39m, \u001b[38;5;28;01mNone\u001b[39;00m),\n\u001b[0;32m   1885\u001b[0m     memory_map\u001b[38;5;241m=\u001b[39m\u001b[38;5;28mself\u001b[39m\u001b[38;5;241m.\u001b[39moptions\u001b[38;5;241m.\u001b[39mget(\u001b[38;5;124m\"\u001b[39m\u001b[38;5;124mmemory_map\u001b[39m\u001b[38;5;124m\"\u001b[39m, \u001b[38;5;28;01mFalse\u001b[39;00m),\n\u001b[0;32m   1886\u001b[0m     is_text\u001b[38;5;241m=\u001b[39mis_text,\n\u001b[0;32m   1887\u001b[0m     errors\u001b[38;5;241m=\u001b[39m\u001b[38;5;28mself\u001b[39m\u001b[38;5;241m.\u001b[39moptions\u001b[38;5;241m.\u001b[39mget(\u001b[38;5;124m\"\u001b[39m\u001b[38;5;124mencoding_errors\u001b[39m\u001b[38;5;124m\"\u001b[39m, \u001b[38;5;124m\"\u001b[39m\u001b[38;5;124mstrict\u001b[39m\u001b[38;5;124m\"\u001b[39m),\n\u001b[0;32m   1888\u001b[0m     storage_options\u001b[38;5;241m=\u001b[39m\u001b[38;5;28mself\u001b[39m\u001b[38;5;241m.\u001b[39moptions\u001b[38;5;241m.\u001b[39mget(\u001b[38;5;124m\"\u001b[39m\u001b[38;5;124mstorage_options\u001b[39m\u001b[38;5;124m\"\u001b[39m, \u001b[38;5;28;01mNone\u001b[39;00m),\n\u001b[0;32m   1889\u001b[0m )\n\u001b[0;32m   1890\u001b[0m \u001b[38;5;28;01massert\u001b[39;00m \u001b[38;5;28mself\u001b[39m\u001b[38;5;241m.\u001b[39mhandles \u001b[38;5;129;01mis\u001b[39;00m \u001b[38;5;129;01mnot\u001b[39;00m \u001b[38;5;28;01mNone\u001b[39;00m\n\u001b[0;32m   1891\u001b[0m f \u001b[38;5;241m=\u001b[39m \u001b[38;5;28mself\u001b[39m\u001b[38;5;241m.\u001b[39mhandles\u001b[38;5;241m.\u001b[39mhandle\n",
      "File \u001b[1;32m~\\anaconda3\\Lib\\site-packages\\pandas\\io\\common.py:873\u001b[0m, in \u001b[0;36mget_handle\u001b[1;34m(path_or_buf, mode, encoding, compression, memory_map, is_text, errors, storage_options)\u001b[0m\n\u001b[0;32m    868\u001b[0m \u001b[38;5;28;01melif\u001b[39;00m \u001b[38;5;28misinstance\u001b[39m(handle, \u001b[38;5;28mstr\u001b[39m):\n\u001b[0;32m    869\u001b[0m     \u001b[38;5;66;03m# Check whether the filename is to be opened in binary mode.\u001b[39;00m\n\u001b[0;32m    870\u001b[0m     \u001b[38;5;66;03m# Binary mode does not support 'encoding' and 'newline'.\u001b[39;00m\n\u001b[0;32m    871\u001b[0m     \u001b[38;5;28;01mif\u001b[39;00m ioargs\u001b[38;5;241m.\u001b[39mencoding \u001b[38;5;129;01mand\u001b[39;00m \u001b[38;5;124m\"\u001b[39m\u001b[38;5;124mb\u001b[39m\u001b[38;5;124m\"\u001b[39m \u001b[38;5;129;01mnot\u001b[39;00m \u001b[38;5;129;01min\u001b[39;00m ioargs\u001b[38;5;241m.\u001b[39mmode:\n\u001b[0;32m    872\u001b[0m         \u001b[38;5;66;03m# Encoding\u001b[39;00m\n\u001b[1;32m--> 873\u001b[0m         handle \u001b[38;5;241m=\u001b[39m \u001b[38;5;28mopen\u001b[39m(\n\u001b[0;32m    874\u001b[0m             handle,\n\u001b[0;32m    875\u001b[0m             ioargs\u001b[38;5;241m.\u001b[39mmode,\n\u001b[0;32m    876\u001b[0m             encoding\u001b[38;5;241m=\u001b[39mioargs\u001b[38;5;241m.\u001b[39mencoding,\n\u001b[0;32m    877\u001b[0m             errors\u001b[38;5;241m=\u001b[39merrors,\n\u001b[0;32m    878\u001b[0m             newline\u001b[38;5;241m=\u001b[39m\u001b[38;5;124m\"\u001b[39m\u001b[38;5;124m\"\u001b[39m,\n\u001b[0;32m    879\u001b[0m         )\n\u001b[0;32m    880\u001b[0m     \u001b[38;5;28;01melse\u001b[39;00m:\n\u001b[0;32m    881\u001b[0m         \u001b[38;5;66;03m# Binary mode\u001b[39;00m\n\u001b[0;32m    882\u001b[0m         handle \u001b[38;5;241m=\u001b[39m \u001b[38;5;28mopen\u001b[39m(handle, ioargs\u001b[38;5;241m.\u001b[39mmode)\n",
      "\u001b[1;31mFileNotFoundError\u001b[0m: [Errno 2] No such file or directory: 'file_name_01'"
     ]
    }
   ],
   "source": [
    "import pandas as pd\n",
    "df = pd.read_csv(\"file_name_01\")\n",
    "df"
   ]
  },
  {
   "cell_type": "raw",
   "id": "5204d75a-992e-43dd-a082-bdad268247c4",
   "metadata": {},
   "source": [
    "Q13.Consider a variable Z. The value of Z is \"ID-5632\". Data type of Z is: -\n",
    "a. Complex\n",
    "b. Character\n",
    "c. Integer\n",
    "d. Boolean"
   ]
  },
  {
   "cell_type": "code",
   "execution_count": 33,
   "id": "cc1df98d-71aa-42ea-bfe3-282e4c37a08a",
   "metadata": {},
   "outputs": [
    {
     "data": {
      "text/plain": [
       "str"
      ]
     },
     "execution_count": 33,
     "metadata": {},
     "output_type": "execute_result"
    }
   ],
   "source": [
    "Z = \"ID-5632\"\n",
    "type(Z)"
   ]
  },
  {
   "cell_type": "markdown",
   "id": "1604bd77-bae5-405b-b77e-becaf866878c",
   "metadata": {},
   "source": [
    "answer of question 13 - option b"
   ]
  },
  {
   "cell_type": "raw",
   "id": "74e73b17-6bc8-4c74-9c44-947f3b0aa5a0",
   "metadata": {},
   "source": [
    "Q14.Which of the following variable(s) are character data type?\n",
    "a. K= “4”\n",
    "b. J= “Welcome”\n",
    "c. L= “?”\n",
    "d. All of the above"
   ]
  },
  {
   "cell_type": "code",
   "execution_count": 34,
   "id": "5b580103-5ffa-4889-a542-0e53f212cdda",
   "metadata": {},
   "outputs": [
    {
     "data": {
      "text/plain": [
       "(str, str, str)"
      ]
     },
     "execution_count": 34,
     "metadata": {},
     "output_type": "execute_result"
    }
   ],
   "source": [
    "k = \"4\"\n",
    "j = \"welcome\"\n",
    "l = \"?\"\n",
    "\n",
    "type(k),type(j),type(l)"
   ]
  },
  {
   "cell_type": "markdown",
   "id": "0aab5cfd-61eb-4557-babf-69cd06b23ed2",
   "metadata": {},
   "source": [
    "answer of question 14 - option d"
   ]
  },
  {
   "cell_type": "raw",
   "id": "de5e05f4-348e-4f97-938c-1a173dc8b58d",
   "metadata": {},
   "source": [
    "Q15.Choose the symbol/s that does not have the ability to convert any values to string?\n",
    "a. ( )\n",
    "b. “ ”\n",
    "c. {}\n",
    "d. #"
   ]
  },
  {
   "cell_type": "markdown",
   "id": "0dbb3612-27ff-467d-a25c-6d92a33e25b3",
   "metadata": {},
   "source": [
    "answer of question 15 -  option d"
   ]
  },
  {
   "cell_type": "raw",
   "id": "8d93a5f2-1f2f-4dcd-a001-83926db90cde",
   "metadata": {},
   "source": [
    "Q16.Create a dictionary ‘Country’ that maps the following countries to their capitals\n",
    "respectively:\n",
    "Country India China Japan Qatar France\n",
    "State Delhi Beijing Tokyo Doha Marseilles\n",
    "Find 2 commands to replace “Marseilles” with “Paris” is:"
   ]
  },
  {
   "cell_type": "code",
   "execution_count": 48,
   "id": "77fb972d-da87-4825-9476-4e3e44599ddd",
   "metadata": {},
   "outputs": [
    {
     "data": {
      "text/plain": [
       "{'India': 'Delhi',\n",
       " 'China': 'Beijing',\n",
       " 'Japan': 'Tokyo',\n",
       " 'Qatar': 'Doha',\n",
       " 'France': 'Paris'}"
      ]
     },
     "execution_count": 48,
     "metadata": {},
     "output_type": "execute_result"
    }
   ],
   "source": [
    "Country = {\n",
    "    'India':'Delhi',\n",
    "    'China':'Beijing',\n",
    "    'Japan':'Tokyo',\n",
    "    'Qatar':'Doha',\n",
    "    'France':'Marseilles'}\n",
    "\n",
    "Country.update({'France':'Paris'})\n",
    "Country = {**Country, 'France':'Paris'}\n",
    "Country"
   ]
  },
  {
   "cell_type": "raw",
   "id": "5758d994-5ee1-4488-ad64-8cb604e2acb6",
   "metadata": {},
   "source": [
    "Q17. Create the tuples given below\n",
    "tuple_1 = (1,5,6,7,8)\n",
    "tuple_2 = (8,9,4)\n",
    "Identify which of the following code does not work on a tuple.\n",
    "a. sum(tuple_1)\r\n",
    "b. len(tuple_2)\r\n",
    "c. tuple_2 + tuple_1\r\n",
    "d. tuple_1[3] = 45"
   ]
  },
  {
   "cell_type": "code",
   "execution_count": 53,
   "id": "1aa7bade-fa59-47db-a954-8df2713c9f3a",
   "metadata": {},
   "outputs": [
    {
     "ename": "TypeError",
     "evalue": "'tuple' object does not support item assignment",
     "output_type": "error",
     "traceback": [
      "\u001b[1;31m---------------------------------------------------------------------------\u001b[0m",
      "\u001b[1;31mTypeError\u001b[0m                                 Traceback (most recent call last)",
      "Cell \u001b[1;32mIn[53], line 5\u001b[0m\n\u001b[0;32m      2\u001b[0m tuple_2 \u001b[38;5;241m=\u001b[39m (\u001b[38;5;241m8\u001b[39m,\u001b[38;5;241m9\u001b[39m,\u001b[38;5;241m4\u001b[39m)\n\u001b[0;32m      4\u001b[0m \u001b[38;5;28msum\u001b[39m(tuple_1),\u001b[38;5;28mlen\u001b[39m(tuple_2),tuple_2 \u001b[38;5;241m+\u001b[39m tuple_1\n\u001b[1;32m----> 5\u001b[0m tuple_1[\u001b[38;5;241m3\u001b[39m] \u001b[38;5;241m=\u001b[39m \u001b[38;5;241m45\u001b[39m\n",
      "\u001b[1;31mTypeError\u001b[0m: 'tuple' object does not support item assignment"
     ]
    }
   ],
   "source": [
    "tuple_1 = (1,5,6,7,8)\n",
    "tuple_2 = (8,9,4)\n",
    "\n",
    "sum(tuple_1),len(tuple_2),tuple_2 + tuple_1\n",
    "tuple_1[3] = 45"
   ]
  },
  {
   "cell_type": "markdown",
   "id": "0758b005-3ff0-4bfd-b09d-c265fd691937",
   "metadata": {},
   "source": [
    "answer of question 17 - option d"
   ]
  },
  {
   "cell_type": "raw",
   "id": "8ce3ce06-2529-4b18-90f0-0d0c4c2e6e0b",
   "metadata": {},
   "source": [
    "Q18. How many elements in the following data structure?\n",
    "\n",
    "S = {1,2,3,4,4,4,5,6}\n"
   ]
  },
  {
   "cell_type": "code",
   "execution_count": 33,
   "id": "082bc70f-17e4-4e83-b1a3-7b78b86f0baf",
   "metadata": {},
   "outputs": [
    {
     "name": "stdout",
     "output_type": "stream",
     "text": [
      "6\n"
     ]
    }
   ],
   "source": [
    "S = {1,2,3,4,4,4,5,6}\n",
    "print(len(S))"
   ]
  },
  {
   "cell_type": "markdown",
   "id": "4aeb65c1-fa89-4de3-924c-4cbb4e641ec8",
   "metadata": {},
   "source": [
    "There are 6 elements in above data structure , as the data structure represent 'Set', hence duplicate elements are not considered "
   ]
  },
  {
   "cell_type": "markdown",
   "id": "c9c1fbba-4b7d-49b0-a1d5-75ce688a3eaa",
   "metadata": {},
   "source": [
    "Q19.Write a function which finds all pythagorean triplets of triangles whose sides are no\n",
    "greater than a natural number N."
   ]
  },
  {
   "cell_type": "code",
   "execution_count": 28,
   "id": "574bad9b-d84a-4111-87c1-a0d933c3bfe3",
   "metadata": {},
   "outputs": [],
   "source": [
    "def pythagoreantriplets(N):\n",
    "  c=0\n",
    "  m=2\n",
    "  while(c<N):\n",
    "    for n in range(1,m+1):\n",
    "        a=m*m-n*n\n",
    "        b=2*m*n\n",
    "        c=m*m+n*n\n",
    "        if(c>N):\n",
    "            break\n",
    "        if(a==0 or b==0 or c==0):\n",
    "            break\n",
    "        print(a,b,c)\n",
    "    m=m+1"
   ]
  },
  {
   "cell_type": "code",
   "execution_count": 35,
   "id": "ffbea3d2-1ed7-4e89-bf98-e35b8542abe4",
   "metadata": {},
   "outputs": [
    {
     "name": "stdout",
     "output_type": "stream",
     "text": [
      "3 4 5\n",
      "8 6 10\n",
      "5 12 13\n",
      "15 8 17\n",
      "12 16 20\n"
     ]
    }
   ],
   "source": [
    "pythagoreantriplets(24)"
   ]
  },
  {
   "cell_type": "code",
   "execution_count": null,
   "id": "d1be4141-dcec-41dc-b7fe-dcb67c51c5fd",
   "metadata": {},
   "outputs": [],
   "source": []
  },
  {
   "cell_type": "code",
   "execution_count": null,
   "id": "336e54ca-f106-48c5-8b8a-94f9e4fb3fe2",
   "metadata": {},
   "outputs": [],
   "source": []
  },
  {
   "cell_type": "code",
   "execution_count": null,
   "id": "c3ba9c78-4264-4e5a-8283-630301e270d3",
   "metadata": {},
   "outputs": [],
   "source": []
  },
  {
   "cell_type": "code",
   "execution_count": null,
   "id": "eb25fb0c-2b62-4ac7-9073-e01dd1023a7d",
   "metadata": {},
   "outputs": [],
   "source": []
  },
  {
   "cell_type": "code",
   "execution_count": null,
   "id": "337e4c25-33e0-4216-b4ba-f5878945bc5f",
   "metadata": {},
   "outputs": [],
   "source": []
  },
  {
   "cell_type": "code",
   "execution_count": null,
   "id": "a5b58b26-614f-44a6-8e65-3638bd8b4e1e",
   "metadata": {},
   "outputs": [],
   "source": []
  },
  {
   "cell_type": "code",
   "execution_count": null,
   "id": "2b7655b5-e540-421b-8087-70e3f048672d",
   "metadata": {},
   "outputs": [],
   "source": []
  },
  {
   "cell_type": "code",
   "execution_count": null,
   "id": "b353b101-7f5e-4d98-adbb-4141bbb3e41e",
   "metadata": {},
   "outputs": [],
   "source": []
  },
  {
   "cell_type": "code",
   "execution_count": null,
   "id": "86256048-23f5-42dd-baf6-677a13b6b1a8",
   "metadata": {},
   "outputs": [],
   "source": []
  },
  {
   "cell_type": "code",
   "execution_count": null,
   "id": "f1c4f7da-3c0c-45ba-82a5-3364e233df13",
   "metadata": {},
   "outputs": [],
   "source": []
  },
  {
   "cell_type": "code",
   "execution_count": null,
   "id": "95f50154-4b24-4ad0-858f-5e9d92d96179",
   "metadata": {},
   "outputs": [],
   "source": []
  }
 ],
 "metadata": {
  "kernelspec": {
   "display_name": "Python 3 (ipykernel)",
   "language": "python",
   "name": "python3"
  },
  "language_info": {
   "codemirror_mode": {
    "name": "ipython",
    "version": 3
   },
   "file_extension": ".py",
   "mimetype": "text/x-python",
   "name": "python",
   "nbconvert_exporter": "python",
   "pygments_lexer": "ipython3",
   "version": "3.12.4"
  }
 },
 "nbformat": 4,
 "nbformat_minor": 5
}
